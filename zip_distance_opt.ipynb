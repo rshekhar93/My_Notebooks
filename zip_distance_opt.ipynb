{
 "cells": [
  {
   "cell_type": "code",
   "execution_count": 1,
   "metadata": {},
   "outputs": [],
   "source": [
    "from pyzipcode import ZipCodeDatabase\n",
    "import pandas as pd"
   ]
  },
  {
   "cell_type": "code",
   "execution_count": 84,
   "metadata": {},
   "outputs": [
    {
     "name": "stdout",
     "output_type": "stream",
     "text": [
      "(41483, 10)\n"
     ]
    },
    {
     "data": {
      "text/html": [
       "<div>\n",
       "<style scoped>\n",
       "    .dataframe tbody tr th:only-of-type {\n",
       "        vertical-align: middle;\n",
       "    }\n",
       "\n",
       "    .dataframe tbody tr th {\n",
       "        vertical-align: top;\n",
       "    }\n",
       "\n",
       "    .dataframe thead th {\n",
       "        text-align: right;\n",
       "    }\n",
       "</style>\n",
       "<table border=\"1\" class=\"dataframe\">\n",
       "  <thead>\n",
       "    <tr style=\"text-align: right;\">\n",
       "      <th></th>\n",
       "      <th>Country_cd</th>\n",
       "      <th>Zip</th>\n",
       "      <th>City</th>\n",
       "      <th>State</th>\n",
       "      <th>St_Cd</th>\n",
       "      <th>County</th>\n",
       "      <th>Ct_ID</th>\n",
       "      <th>Lat</th>\n",
       "      <th>Long</th>\n",
       "      <th>Acc</th>\n",
       "    </tr>\n",
       "  </thead>\n",
       "  <tbody>\n",
       "    <tr>\n",
       "      <th>0</th>\n",
       "      <td>US</td>\n",
       "      <td>501</td>\n",
       "      <td>Holtsville</td>\n",
       "      <td>New York</td>\n",
       "      <td>NY</td>\n",
       "      <td>Suffolk</td>\n",
       "      <td>103.0</td>\n",
       "      <td>40.8154</td>\n",
       "      <td>-73.0451</td>\n",
       "      <td>4.0</td>\n",
       "    </tr>\n",
       "    <tr>\n",
       "      <th>1</th>\n",
       "      <td>US</td>\n",
       "      <td>544</td>\n",
       "      <td>Holtsville</td>\n",
       "      <td>New York</td>\n",
       "      <td>NY</td>\n",
       "      <td>Suffolk</td>\n",
       "      <td>103.0</td>\n",
       "      <td>40.8154</td>\n",
       "      <td>-73.0451</td>\n",
       "      <td>4.0</td>\n",
       "    </tr>\n",
       "    <tr>\n",
       "      <th>2</th>\n",
       "      <td>US</td>\n",
       "      <td>1001</td>\n",
       "      <td>Agawam</td>\n",
       "      <td>Massachusetts</td>\n",
       "      <td>MA</td>\n",
       "      <td>Hampden</td>\n",
       "      <td>13.0</td>\n",
       "      <td>42.0702</td>\n",
       "      <td>-72.6227</td>\n",
       "      <td>4.0</td>\n",
       "    </tr>\n",
       "    <tr>\n",
       "      <th>3</th>\n",
       "      <td>US</td>\n",
       "      <td>1002</td>\n",
       "      <td>Amherst</td>\n",
       "      <td>Massachusetts</td>\n",
       "      <td>MA</td>\n",
       "      <td>Hampshire</td>\n",
       "      <td>15.0</td>\n",
       "      <td>42.3671</td>\n",
       "      <td>-72.4646</td>\n",
       "      <td>4.0</td>\n",
       "    </tr>\n",
       "    <tr>\n",
       "      <th>4</th>\n",
       "      <td>US</td>\n",
       "      <td>1003</td>\n",
       "      <td>Amherst</td>\n",
       "      <td>Massachusetts</td>\n",
       "      <td>MA</td>\n",
       "      <td>Hampshire</td>\n",
       "      <td>15.0</td>\n",
       "      <td>42.3919</td>\n",
       "      <td>-72.5248</td>\n",
       "      <td>4.0</td>\n",
       "    </tr>\n",
       "  </tbody>\n",
       "</table>\n",
       "</div>"
      ],
      "text/plain": [
       "  Country_cd   Zip        City          State St_Cd     County  Ct_ID   \n",
       "0         US   501  Holtsville       New York    NY    Suffolk  103.0  \\\n",
       "1         US   544  Holtsville       New York    NY    Suffolk  103.0   \n",
       "2         US  1001      Agawam  Massachusetts    MA    Hampden   13.0   \n",
       "3         US  1002     Amherst  Massachusetts    MA  Hampshire   15.0   \n",
       "4         US  1003     Amherst  Massachusetts    MA  Hampshire   15.0   \n",
       "\n",
       "       Lat     Long  Acc  \n",
       "0  40.8154 -73.0451  4.0  \n",
       "1  40.8154 -73.0451  4.0  \n",
       "2  42.0702 -72.6227  4.0  \n",
       "3  42.3671 -72.4646  4.0  \n",
       "4  42.3919 -72.5248  4.0  "
      ]
     },
     "execution_count": 84,
     "metadata": {},
     "output_type": "execute_result"
    }
   ],
   "source": [
    "df = pd.read_csv('zipCode.csv')\n",
    "print(df.shape)\n",
    "df.head()"
   ]
  },
  {
   "cell_type": "code",
   "execution_count": 103,
   "metadata": {},
   "outputs": [
    {
     "name": "stdout",
     "output_type": "stream",
     "text": [
      "(41483, 12)\n"
     ]
    },
    {
     "data": {
      "text/html": [
       "<div>\n",
       "<style scoped>\n",
       "    .dataframe tbody tr th:only-of-type {\n",
       "        vertical-align: middle;\n",
       "    }\n",
       "\n",
       "    .dataframe tbody tr th {\n",
       "        vertical-align: top;\n",
       "    }\n",
       "\n",
       "    .dataframe thead th {\n",
       "        text-align: right;\n",
       "    }\n",
       "</style>\n",
       "<table border=\"1\" class=\"dataframe\">\n",
       "  <thead>\n",
       "    <tr style=\"text-align: right;\">\n",
       "      <th></th>\n",
       "      <th>Country_cd</th>\n",
       "      <th>Zip</th>\n",
       "      <th>City</th>\n",
       "      <th>State</th>\n",
       "      <th>St_Cd</th>\n",
       "      <th>County</th>\n",
       "      <th>Ct_ID</th>\n",
       "      <th>test1</th>\n",
       "      <th>test2</th>\n",
       "      <th>Lat</th>\n",
       "      <th>Long</th>\n",
       "      <th>Acc</th>\n",
       "    </tr>\n",
       "  </thead>\n",
       "  <tbody>\n",
       "    <tr>\n",
       "      <th>0</th>\n",
       "      <td>US</td>\n",
       "      <td>99553</td>\n",
       "      <td>Akutan</td>\n",
       "      <td>Alaska</td>\n",
       "      <td>AK</td>\n",
       "      <td>Aleutians East</td>\n",
       "      <td>13.0</td>\n",
       "      <td>NaN</td>\n",
       "      <td>NaN</td>\n",
       "      <td>54.1430</td>\n",
       "      <td>-165.7854</td>\n",
       "      <td>1.0</td>\n",
       "    </tr>\n",
       "    <tr>\n",
       "      <th>1</th>\n",
       "      <td>US</td>\n",
       "      <td>99571</td>\n",
       "      <td>Cold Bay</td>\n",
       "      <td>Alaska</td>\n",
       "      <td>AK</td>\n",
       "      <td>Aleutians East</td>\n",
       "      <td>13.0</td>\n",
       "      <td>NaN</td>\n",
       "      <td>NaN</td>\n",
       "      <td>55.1858</td>\n",
       "      <td>-162.7211</td>\n",
       "      <td>1.0</td>\n",
       "    </tr>\n",
       "    <tr>\n",
       "      <th>2</th>\n",
       "      <td>US</td>\n",
       "      <td>99583</td>\n",
       "      <td>False Pass</td>\n",
       "      <td>Alaska</td>\n",
       "      <td>AK</td>\n",
       "      <td>Aleutians East</td>\n",
       "      <td>13.0</td>\n",
       "      <td>NaN</td>\n",
       "      <td>NaN</td>\n",
       "      <td>54.8542</td>\n",
       "      <td>-163.4113</td>\n",
       "      <td>1.0</td>\n",
       "    </tr>\n",
       "    <tr>\n",
       "      <th>3</th>\n",
       "      <td>US</td>\n",
       "      <td>99612</td>\n",
       "      <td>King Cove</td>\n",
       "      <td>Alaska</td>\n",
       "      <td>AK</td>\n",
       "      <td>Aleutians East</td>\n",
       "      <td>13.0</td>\n",
       "      <td>NaN</td>\n",
       "      <td>NaN</td>\n",
       "      <td>55.0628</td>\n",
       "      <td>-162.3056</td>\n",
       "      <td>1.0</td>\n",
       "    </tr>\n",
       "    <tr>\n",
       "      <th>4</th>\n",
       "      <td>US</td>\n",
       "      <td>99661</td>\n",
       "      <td>Sand Point</td>\n",
       "      <td>Alaska</td>\n",
       "      <td>AK</td>\n",
       "      <td>Aleutians East</td>\n",
       "      <td>13.0</td>\n",
       "      <td>NaN</td>\n",
       "      <td>NaN</td>\n",
       "      <td>55.3192</td>\n",
       "      <td>-160.4914</td>\n",
       "      <td>1.0</td>\n",
       "    </tr>\n",
       "  </tbody>\n",
       "</table>\n",
       "</div>"
      ],
      "text/plain": [
       "  Country_cd    Zip        City   State St_Cd          County  Ct_ID test1   \n",
       "0         US  99553      Akutan  Alaska    AK  Aleutians East   13.0   NaN  \\\n",
       "1         US  99571    Cold Bay  Alaska    AK  Aleutians East   13.0   NaN   \n",
       "2         US  99583  False Pass  Alaska    AK  Aleutians East   13.0   NaN   \n",
       "3         US  99612   King Cove  Alaska    AK  Aleutians East   13.0   NaN   \n",
       "4         US  99661  Sand Point  Alaska    AK  Aleutians East   13.0   NaN   \n",
       "\n",
       "   test2      Lat      Long  Acc  \n",
       "0    NaN  54.1430 -165.7854  1.0  \n",
       "1    NaN  55.1858 -162.7211  1.0  \n",
       "2    NaN  54.8542 -163.4113  1.0  \n",
       "3    NaN  55.0628 -162.3056  1.0  \n",
       "4    NaN  55.3192 -160.4914  1.0  "
      ]
     },
     "execution_count": 103,
     "metadata": {},
     "output_type": "execute_result"
    }
   ],
   "source": [
    "column_names = ['Country_cd', 'Zip', 'City', 'State', 'St_Cd', 'County', 'Ct_ID', 'test1', 'test2', 'Lat', 'Long', 'Acc']\n",
    "df = pd.read_csv('US.txt', delimiter = \"\\t\", names=column_names)\n",
    "print(df.shape)\n",
    "df.head()"
   ]
  },
  {
   "cell_type": "code",
   "execution_count": 104,
   "metadata": {},
   "outputs": [
    {
     "data": {
      "text/plain": [
       "41481"
      ]
     },
     "execution_count": 104,
     "metadata": {},
     "output_type": "execute_result"
    }
   ],
   "source": [
    "df.Zip.nunique()"
   ]
  },
  {
   "cell_type": "code",
   "execution_count": 111,
   "metadata": {},
   "outputs": [
    {
     "data": {
      "text/plain": [
       "array(['00501', '00544', '01001', '01002', '01003', '01004', '01005',\n",
       "       '01007', '01008', '01009'], dtype=object)"
      ]
     },
     "execution_count": 111,
     "metadata": {},
     "output_type": "execute_result"
    }
   ],
   "source": [
    "df = df.sort_values('Zip')\n",
    "df['Zip'] = df['Zip'].astype(str).str.zfill(5)\n",
    "df1 = df.head(10).copy()\n",
    "df1['Zip'] = df1['Zip'].astype(str).str.zfill(5)\n",
    "df1['Zip'].unique()"
   ]
  },
  {
   "cell_type": "code",
   "execution_count": 114,
   "metadata": {},
   "outputs": [],
   "source": [
    "def optimize_zipcodes(radius):\n",
    "    zcdb = ZipCodeDatabase()\n",
    "    all_zipcodes = df['Zip'].astype('str').values\n",
    "    optimized_zipcodes = []\n",
    "\n",
    "    while len(all_zipcodes)>0:\n",
    "        try:\n",
    "            current_zip = all_zipcodes[0]\n",
    "            optimized_zipcodes.append(current_zip)\n",
    "            nearby_zips = [z.zip for z in zcdb.get_zipcodes_around_radius(current_zip, radius)]\n",
    "            all_zipcodes = [z for z in all_zipcodes if z not in nearby_zips]\n",
    "        except Exception:\n",
    "            pass\n",
    "\n",
    "    return pd.DataFrame(optimized_zipcodes, columns=['Zipcode'])"
   ]
  },
  {
   "cell_type": "code",
   "execution_count": 115,
   "metadata": {},
   "outputs": [],
   "source": [
    "# Example usage:\n",
    "opt_zips = optimize_zipcodes(5)\n",
    "print(opt_zips.shape)"
   ]
  },
  {
   "cell_type": "code",
   "execution_count": null,
   "metadata": {},
   "outputs": [],
   "source": [
    "opt_zips.to_csv('opt_zips.csv')"
   ]
  },
  {
   "cell_type": "code",
   "execution_count": null,
   "metadata": {},
   "outputs": [],
   "source": []
  }
 ],
 "metadata": {
  "kernelspec": {
   "display_name": ".venv",
   "language": "python",
   "name": "python3"
  },
  "language_info": {
   "codemirror_mode": {
    "name": "ipython",
    "version": 3
   },
   "file_extension": ".py",
   "mimetype": "text/x-python",
   "name": "python",
   "nbconvert_exporter": "python",
   "pygments_lexer": "ipython3",
   "version": "3.11.3"
  }
 },
 "nbformat": 4,
 "nbformat_minor": 2
}
